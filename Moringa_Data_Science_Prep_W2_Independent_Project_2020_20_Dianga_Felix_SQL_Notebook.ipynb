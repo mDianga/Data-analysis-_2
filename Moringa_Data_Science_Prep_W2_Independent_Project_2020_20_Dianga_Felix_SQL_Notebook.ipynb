{
  "nbformat": 4,
  "nbformat_minor": 0,
  "metadata": {
    "colab": {
      "name": "Moringa_Data_Science_Prep_W2_Independent_Project_2020_20_Dianga_Felix_SQL_Notebook.ipynb",
      "provenance": [],
      "collapsed_sections": [],
      "include_colab_link": true
    },
    "kernelspec": {
      "name": "python3",
      "display_name": "Python 3"
    }
  },
  "cells": [
    {
      "cell_type": "markdown",
      "metadata": {
        "id": "view-in-github",
        "colab_type": "text"
      },
      "source": [
        "<a href=\"https://colab.research.google.com/github/mDianga/Data-analysis-_2/blob/master/Moringa_Data_Science_Prep_W2_Independent_Project_2020_20_Dianga_Felix_SQL_Notebook.ipynb\" target=\"_parent\"><img src=\"https://colab.research.google.com/assets/colab-badge.svg\" alt=\"Open In Colab\"/></a>"
      ]
    },
    {
      "cell_type": "code",
      "metadata": {
        "id": "1uNEhq0f8dlt",
        "colab_type": "code",
        "colab": {
          "base_uri": "https://localhost:8080/",
          "height": 35
        },
        "outputId": "e270f03f-a169-488a-ba7d-d263173097cd"
      },
      "source": [
        "%load_ext sql\n",
        "%sql sqlite://"
      ],
      "execution_count": null,
      "outputs": [
        {
          "output_type": "execute_result",
          "data": {
            "application/vnd.google.colaboratory.intrinsic": {
              "type": "string"
            },
            "text/plain": [
              "'Connected: @None'"
            ]
          },
          "metadata": {
            "tags": []
          },
          "execution_count": 2
        }
      ]
    },
    {
      "cell_type": "code",
      "metadata": {
        "id": "-yE1SYgED_Uq",
        "colab_type": "code",
        "colab": {}
      },
      "source": [
        "import csv\n",
        "import pandas as pd"
      ],
      "execution_count": null,
      "outputs": []
    },
    {
      "cell_type": "code",
      "metadata": {
        "id": "FR1OsUWnEq_H",
        "colab_type": "code",
        "colab": {}
      },
      "source": [
        "with open('GrandElectors.csv','r') as f:\n",
        "   GrandElectors = pd.read_csv(f, index_col=0, encoding='utf-8') "
      ],
      "execution_count": null,
      "outputs": []
    },
    {
      "cell_type": "code",
      "metadata": {
        "id": "PBkClvHPFWgn",
        "colab_type": "code",
        "colab": {
          "base_uri": "https://localhost:8080/",
          "height": 86
        },
        "outputId": "b2f1f943-e2f2-493e-9ac0-b36a61d60d13"
      },
      "source": [
        "%sql DROP TABLE if EXISTS GrandElectors;\n",
        "%sql PERSIST GrandElectors;"
      ],
      "execution_count": null,
      "outputs": [
        {
          "output_type": "stream",
          "text": [
            " * sqlite://\n",
            "Done.\n",
            " * sqlite://\n"
          ],
          "name": "stdout"
        },
        {
          "output_type": "execute_result",
          "data": {
            "application/vnd.google.colaboratory.intrinsic": {
              "type": "string"
            },
            "text/plain": [
              "'Persisted grandelectors'"
            ]
          },
          "metadata": {
            "tags": []
          },
          "execution_count": 5
        }
      ]
    },
    {
      "cell_type": "code",
      "metadata": {
        "id": "ud3CgnDJF1NA",
        "colab_type": "code",
        "colab": {
          "base_uri": "https://localhost:8080/",
          "height": 179
        },
        "outputId": "2d24626a-21da-44cd-8e04-153771b4ae65"
      },
      "source": [
        "%%sql\n",
        "select * from GrandElectors limit 5"
      ],
      "execution_count": null,
      "outputs": [
        {
          "output_type": "stream",
          "text": [
            " * sqlite://\n",
            "Done.\n"
          ],
          "name": "stdout"
        },
        {
          "output_type": "execute_result",
          "data": {
            "text/html": [
              "<table>\n",
              "    <tr>\n",
              "        <th>State</th>\n",
              "        <th>GrandElectors</th>\n",
              "    </tr>\n",
              "    <tr>\n",
              "        <td>Alabama</td>\n",
              "        <td>9</td>\n",
              "    </tr>\n",
              "    <tr>\n",
              "        <td>Alaska</td>\n",
              "        <td>3</td>\n",
              "    </tr>\n",
              "    <tr>\n",
              "        <td>Arizona</td>\n",
              "        <td>11</td>\n",
              "    </tr>\n",
              "    <tr>\n",
              "        <td>Arkansas</td>\n",
              "        <td>6</td>\n",
              "    </tr>\n",
              "    <tr>\n",
              "        <td>California</td>\n",
              "        <td>55</td>\n",
              "    </tr>\n",
              "</table>"
            ],
            "text/plain": [
              "[('Alabama', 9),\n",
              " ('Alaska', 3),\n",
              " ('Arizona', 11),\n",
              " ('Arkansas', 6),\n",
              " ('California', 55)]"
            ]
          },
          "metadata": {
            "tags": []
          },
          "execution_count": 6
        }
      ]
    },
    {
      "cell_type": "code",
      "metadata": {
        "id": "9SAEn9pHGgZK",
        "colab_type": "code",
        "colab": {}
      },
      "source": [
        "with open('Population_states.csv','r') as f:\n",
        "   Population_states = pd.read_csv(f, index_col=0, encoding='utf-8') "
      ],
      "execution_count": null,
      "outputs": []
    },
    {
      "cell_type": "code",
      "metadata": {
        "id": "txWm4BifHdAm",
        "colab_type": "code",
        "colab": {
          "base_uri": "https://localhost:8080/",
          "height": 86
        },
        "outputId": "2731245f-e277-4aba-8146-8ea4db8f84b5"
      },
      "source": [
        "%sql DROP TABLE if EXISTS Population_states;\n",
        "%sql PERSIST Population_states;"
      ],
      "execution_count": null,
      "outputs": [
        {
          "output_type": "stream",
          "text": [
            " * sqlite://\n",
            "Done.\n",
            " * sqlite://\n"
          ],
          "name": "stdout"
        },
        {
          "output_type": "execute_result",
          "data": {
            "application/vnd.google.colaboratory.intrinsic": {
              "type": "string"
            },
            "text/plain": [
              "'Persisted population_states'"
            ]
          },
          "metadata": {
            "tags": []
          },
          "execution_count": 8
        }
      ]
    },
    {
      "cell_type": "code",
      "metadata": {
        "id": "1PCyakcmH5Rr",
        "colab_type": "code",
        "colab": {
          "base_uri": "https://localhost:8080/",
          "height": 179
        },
        "outputId": "9fa69465-c820-45f8-c43b-e4a4fcf4251f"
      },
      "source": [
        "%%sql\n",
        "select * from Population_states limit 5"
      ],
      "execution_count": null,
      "outputs": [
        {
          "output_type": "stream",
          "text": [
            " * sqlite://\n",
            "Done.\n"
          ],
          "name": "stdout"
        },
        {
          "output_type": "execute_result",
          "data": {
            "text/html": [
              "<table>\n",
              "    <tr>\n",
              "        <th>State</th>\n",
              "        <th>Population</th>\n",
              "    </tr>\n",
              "    <tr>\n",
              "        <td>CALIFORNIA</td>\n",
              "        <td>39144818</td>\n",
              "    </tr>\n",
              "    <tr>\n",
              "        <td>TEXAS</td>\n",
              "        <td>27469114</td>\n",
              "    </tr>\n",
              "    <tr>\n",
              "        <td>FLORIDA</td>\n",
              "        <td>20271272</td>\n",
              "    </tr>\n",
              "    <tr>\n",
              "        <td>NEW YORK</td>\n",
              "        <td>19795791</td>\n",
              "    </tr>\n",
              "    <tr>\n",
              "        <td>ILLINOIS</td>\n",
              "        <td>12859995</td>\n",
              "    </tr>\n",
              "</table>"
            ],
            "text/plain": [
              "[('CALIFORNIA', 39144818),\n",
              " ('TEXAS', 27469114),\n",
              " ('FLORIDA', 20271272),\n",
              " ('NEW YORK', 19795791),\n",
              " ('ILLINOIS', 12859995)]"
            ]
          },
          "metadata": {
            "tags": []
          },
          "execution_count": 9
        }
      ]
    },
    {
      "cell_type": "code",
      "metadata": {
        "id": "NAabQRZpJ7dL",
        "colab_type": "code",
        "colab": {
          "base_uri": "https://localhost:8080/",
          "height": 1000
        },
        "outputId": "fb5c2b6a-ca8e-4015-e9f7-399ee23ddc20"
      },
      "source": [
        "# Question 1\n",
        "%%sql\n",
        "SELECT UPPER(g.State) AS State, g.GrandElectors, p.State, p.Population\n",
        "FROM GrandElectors AS g\n",
        "JOIN Population_states AS p\n",
        "ON UPPER(g.State) = p.State;\n"
      ],
      "execution_count": null,
      "outputs": [
        {
          "output_type": "stream",
          "text": [
            " * sqlite://\n",
            "Done.\n"
          ],
          "name": "stdout"
        },
        {
          "output_type": "execute_result",
          "data": {
            "text/html": [
              "<table>\n",
              "    <tr>\n",
              "        <th>State</th>\n",
              "        <th>GrandElectors</th>\n",
              "        <th>State_1</th>\n",
              "        <th>Population</th>\n",
              "    </tr>\n",
              "    <tr>\n",
              "        <td>ALABAMA</td>\n",
              "        <td>9</td>\n",
              "        <td>ALABAMA</td>\n",
              "        <td>4858979</td>\n",
              "    </tr>\n",
              "    <tr>\n",
              "        <td>ALASKA</td>\n",
              "        <td>3</td>\n",
              "        <td>ALASKA</td>\n",
              "        <td>738432</td>\n",
              "    </tr>\n",
              "    <tr>\n",
              "        <td>ARIZONA</td>\n",
              "        <td>11</td>\n",
              "        <td>ARIZONA</td>\n",
              "        <td>6828065</td>\n",
              "    </tr>\n",
              "    <tr>\n",
              "        <td>ARKANSAS</td>\n",
              "        <td>6</td>\n",
              "        <td>ARKANSAS</td>\n",
              "        <td>2978204</td>\n",
              "    </tr>\n",
              "    <tr>\n",
              "        <td>CALIFORNIA</td>\n",
              "        <td>55</td>\n",
              "        <td>CALIFORNIA</td>\n",
              "        <td>39144818</td>\n",
              "    </tr>\n",
              "    <tr>\n",
              "        <td>COLORADO</td>\n",
              "        <td>9</td>\n",
              "        <td>COLORADO</td>\n",
              "        <td>5456574</td>\n",
              "    </tr>\n",
              "    <tr>\n",
              "        <td>CONNECTICUT</td>\n",
              "        <td>7</td>\n",
              "        <td>CONNECTICUT</td>\n",
              "        <td>3590886</td>\n",
              "    </tr>\n",
              "    <tr>\n",
              "        <td>DISTRICT OF COLUMBIA</td>\n",
              "        <td>3</td>\n",
              "        <td>DISTRICT OF COLUMBIA</td>\n",
              "        <td>672228</td>\n",
              "    </tr>\n",
              "    <tr>\n",
              "        <td>DELAWARE</td>\n",
              "        <td>3</td>\n",
              "        <td>DELAWARE</td>\n",
              "        <td>945934</td>\n",
              "    </tr>\n",
              "    <tr>\n",
              "        <td>FLORIDA</td>\n",
              "        <td>29</td>\n",
              "        <td>FLORIDA</td>\n",
              "        <td>20271272</td>\n",
              "    </tr>\n",
              "    <tr>\n",
              "        <td>GEORGIA</td>\n",
              "        <td>16</td>\n",
              "        <td>GEORGIA</td>\n",
              "        <td>10214860</td>\n",
              "    </tr>\n",
              "    <tr>\n",
              "        <td>HAWAII</td>\n",
              "        <td>4</td>\n",
              "        <td>HAWAII</td>\n",
              "        <td>1431603</td>\n",
              "    </tr>\n",
              "    <tr>\n",
              "        <td>IDAHO</td>\n",
              "        <td>4</td>\n",
              "        <td>IDAHO</td>\n",
              "        <td>1654930</td>\n",
              "    </tr>\n",
              "    <tr>\n",
              "        <td>ILLINOIS</td>\n",
              "        <td>20</td>\n",
              "        <td>ILLINOIS</td>\n",
              "        <td>12859995</td>\n",
              "    </tr>\n",
              "    <tr>\n",
              "        <td>INDIANA</td>\n",
              "        <td>11</td>\n",
              "        <td>INDIANA</td>\n",
              "        <td>6619680</td>\n",
              "    </tr>\n",
              "    <tr>\n",
              "        <td>IOWA</td>\n",
              "        <td>6</td>\n",
              "        <td>IOWA</td>\n",
              "        <td>3123899</td>\n",
              "    </tr>\n",
              "    <tr>\n",
              "        <td>KANSAS</td>\n",
              "        <td>6</td>\n",
              "        <td>KANSAS</td>\n",
              "        <td>2911641</td>\n",
              "    </tr>\n",
              "    <tr>\n",
              "        <td>KENTUCKY</td>\n",
              "        <td>8</td>\n",
              "        <td>KENTUCKY</td>\n",
              "        <td>4425092</td>\n",
              "    </tr>\n",
              "    <tr>\n",
              "        <td>LOUISIANA</td>\n",
              "        <td>8</td>\n",
              "        <td>LOUISIANA</td>\n",
              "        <td>4670724</td>\n",
              "    </tr>\n",
              "    <tr>\n",
              "        <td>MAINE</td>\n",
              "        <td>4</td>\n",
              "        <td>MAINE</td>\n",
              "        <td>1329328</td>\n",
              "    </tr>\n",
              "    <tr>\n",
              "        <td>MARYLAND</td>\n",
              "        <td>10</td>\n",
              "        <td>MARYLAND</td>\n",
              "        <td>6006401</td>\n",
              "    </tr>\n",
              "    <tr>\n",
              "        <td>MASSACHUSETTS</td>\n",
              "        <td>11</td>\n",
              "        <td>MASSACHUSETTS</td>\n",
              "        <td>6794422</td>\n",
              "    </tr>\n",
              "    <tr>\n",
              "        <td>MICHIGAN</td>\n",
              "        <td>16</td>\n",
              "        <td>MICHIGAN</td>\n",
              "        <td>9922576</td>\n",
              "    </tr>\n",
              "    <tr>\n",
              "        <td>MINNESOTA</td>\n",
              "        <td>10</td>\n",
              "        <td>MINNESOTA</td>\n",
              "        <td>5489594</td>\n",
              "    </tr>\n",
              "    <tr>\n",
              "        <td>MISSISSIPPI</td>\n",
              "        <td>6</td>\n",
              "        <td>MISSISSIPPI</td>\n",
              "        <td>2992333</td>\n",
              "    </tr>\n",
              "    <tr>\n",
              "        <td>MISSOURI</td>\n",
              "        <td>10</td>\n",
              "        <td>MISSOURI</td>\n",
              "        <td>6083672</td>\n",
              "    </tr>\n",
              "    <tr>\n",
              "        <td>MONTANA</td>\n",
              "        <td>3</td>\n",
              "        <td>MONTANA</td>\n",
              "        <td>1032949</td>\n",
              "    </tr>\n",
              "    <tr>\n",
              "        <td>NEBRASKA</td>\n",
              "        <td>5</td>\n",
              "        <td>NEBRASKA</td>\n",
              "        <td>1896190</td>\n",
              "    </tr>\n",
              "    <tr>\n",
              "        <td>NEVADA</td>\n",
              "        <td>6</td>\n",
              "        <td>NEVADA</td>\n",
              "        <td>2890845</td>\n",
              "    </tr>\n",
              "    <tr>\n",
              "        <td>NEW HAMPSHIRE</td>\n",
              "        <td>4</td>\n",
              "        <td>NEW HAMPSHIRE</td>\n",
              "        <td>1330608</td>\n",
              "    </tr>\n",
              "    <tr>\n",
              "        <td>NEW JERSEY</td>\n",
              "        <td>14</td>\n",
              "        <td>NEW JERSEY</td>\n",
              "        <td>8958013</td>\n",
              "    </tr>\n",
              "    <tr>\n",
              "        <td>NEW MEXICO</td>\n",
              "        <td>5</td>\n",
              "        <td>NEW MEXICO</td>\n",
              "        <td>2085109</td>\n",
              "    </tr>\n",
              "    <tr>\n",
              "        <td>NEW YORK</td>\n",
              "        <td>29</td>\n",
              "        <td>NEW YORK</td>\n",
              "        <td>19795791</td>\n",
              "    </tr>\n",
              "    <tr>\n",
              "        <td>NORTH CAROLINA</td>\n",
              "        <td>15</td>\n",
              "        <td>NORTH CAROLINA</td>\n",
              "        <td>10042802</td>\n",
              "    </tr>\n",
              "    <tr>\n",
              "        <td>NORTH DAKOTA</td>\n",
              "        <td>3</td>\n",
              "        <td>NORTH DAKOTA</td>\n",
              "        <td>756927</td>\n",
              "    </tr>\n",
              "    <tr>\n",
              "        <td>OHIO</td>\n",
              "        <td>18</td>\n",
              "        <td>OHIO</td>\n",
              "        <td>11613423</td>\n",
              "    </tr>\n",
              "    <tr>\n",
              "        <td>OKLAHOMA</td>\n",
              "        <td>7</td>\n",
              "        <td>OKLAHOMA</td>\n",
              "        <td>3911338</td>\n",
              "    </tr>\n",
              "    <tr>\n",
              "        <td>OREGON</td>\n",
              "        <td>7</td>\n",
              "        <td>OREGON</td>\n",
              "        <td>4028977</td>\n",
              "    </tr>\n",
              "    <tr>\n",
              "        <td>PENNSYLVANIA</td>\n",
              "        <td>20</td>\n",
              "        <td>PENNSYLVANIA</td>\n",
              "        <td>12802503</td>\n",
              "    </tr>\n",
              "    <tr>\n",
              "        <td>RHODE ISLAND</td>\n",
              "        <td>4</td>\n",
              "        <td>RHODE ISLAND</td>\n",
              "        <td>1056298</td>\n",
              "    </tr>\n",
              "    <tr>\n",
              "        <td>SOUTH CAROLINA</td>\n",
              "        <td>9</td>\n",
              "        <td>SOUTH CAROLINA</td>\n",
              "        <td>4896146</td>\n",
              "    </tr>\n",
              "    <tr>\n",
              "        <td>SOUTH DAKOTA</td>\n",
              "        <td>3</td>\n",
              "        <td>SOUTH DAKOTA</td>\n",
              "        <td>858469</td>\n",
              "    </tr>\n",
              "    <tr>\n",
              "        <td>TENNESSEE</td>\n",
              "        <td>11</td>\n",
              "        <td>TENNESSEE</td>\n",
              "        <td>6600299</td>\n",
              "    </tr>\n",
              "    <tr>\n",
              "        <td>TEXAS</td>\n",
              "        <td>38</td>\n",
              "        <td>TEXAS</td>\n",
              "        <td>27469114</td>\n",
              "    </tr>\n",
              "    <tr>\n",
              "        <td>UTAH</td>\n",
              "        <td>6</td>\n",
              "        <td>UTAH</td>\n",
              "        <td>2995919</td>\n",
              "    </tr>\n",
              "    <tr>\n",
              "        <td>VERMONT</td>\n",
              "        <td>3</td>\n",
              "        <td>VERMONT</td>\n",
              "        <td>626042</td>\n",
              "    </tr>\n",
              "    <tr>\n",
              "        <td>VIRGINIA</td>\n",
              "        <td>13</td>\n",
              "        <td>VIRGINIA</td>\n",
              "        <td>8382993</td>\n",
              "    </tr>\n",
              "    <tr>\n",
              "        <td>WASHINGTON</td>\n",
              "        <td>12</td>\n",
              "        <td>WASHINGTON</td>\n",
              "        <td>7170351</td>\n",
              "    </tr>\n",
              "    <tr>\n",
              "        <td>WEST VIRGINIA</td>\n",
              "        <td>5</td>\n",
              "        <td>WEST VIRGINIA</td>\n",
              "        <td>1844128</td>\n",
              "    </tr>\n",
              "    <tr>\n",
              "        <td>WISCONSIN</td>\n",
              "        <td>10</td>\n",
              "        <td>WISCONSIN</td>\n",
              "        <td>5771337</td>\n",
              "    </tr>\n",
              "    <tr>\n",
              "        <td>WYOMING</td>\n",
              "        <td>3</td>\n",
              "        <td>WYOMING</td>\n",
              "        <td>586107</td>\n",
              "    </tr>\n",
              "</table>"
            ],
            "text/plain": [
              "[('ALABAMA', 9, 'ALABAMA', 4858979),\n",
              " ('ALASKA', 3, 'ALASKA', 738432),\n",
              " ('ARIZONA', 11, 'ARIZONA', 6828065),\n",
              " ('ARKANSAS', 6, 'ARKANSAS', 2978204),\n",
              " ('CALIFORNIA', 55, 'CALIFORNIA', 39144818),\n",
              " ('COLORADO', 9, 'COLORADO', 5456574),\n",
              " ('CONNECTICUT', 7, 'CONNECTICUT', 3590886),\n",
              " ('DISTRICT OF COLUMBIA', 3, 'DISTRICT OF COLUMBIA', 672228),\n",
              " ('DELAWARE', 3, 'DELAWARE', 945934),\n",
              " ('FLORIDA', 29, 'FLORIDA', 20271272),\n",
              " ('GEORGIA', 16, 'GEORGIA', 10214860),\n",
              " ('HAWAII', 4, 'HAWAII', 1431603),\n",
              " ('IDAHO', 4, 'IDAHO', 1654930),\n",
              " ('ILLINOIS', 20, 'ILLINOIS', 12859995),\n",
              " ('INDIANA', 11, 'INDIANA', 6619680),\n",
              " ('IOWA', 6, 'IOWA', 3123899),\n",
              " ('KANSAS', 6, 'KANSAS', 2911641),\n",
              " ('KENTUCKY', 8, 'KENTUCKY', 4425092),\n",
              " ('LOUISIANA', 8, 'LOUISIANA', 4670724),\n",
              " ('MAINE', 4, 'MAINE', 1329328),\n",
              " ('MARYLAND', 10, 'MARYLAND', 6006401),\n",
              " ('MASSACHUSETTS', 11, 'MASSACHUSETTS', 6794422),\n",
              " ('MICHIGAN', 16, 'MICHIGAN', 9922576),\n",
              " ('MINNESOTA', 10, 'MINNESOTA', 5489594),\n",
              " ('MISSISSIPPI', 6, 'MISSISSIPPI', 2992333),\n",
              " ('MISSOURI', 10, 'MISSOURI', 6083672),\n",
              " ('MONTANA', 3, 'MONTANA', 1032949),\n",
              " ('NEBRASKA', 5, 'NEBRASKA', 1896190),\n",
              " ('NEVADA', 6, 'NEVADA', 2890845),\n",
              " ('NEW HAMPSHIRE', 4, 'NEW HAMPSHIRE', 1330608),\n",
              " ('NEW JERSEY', 14, 'NEW JERSEY', 8958013),\n",
              " ('NEW MEXICO', 5, 'NEW MEXICO', 2085109),\n",
              " ('NEW YORK', 29, 'NEW YORK', 19795791),\n",
              " ('NORTH CAROLINA', 15, 'NORTH CAROLINA', 10042802),\n",
              " ('NORTH DAKOTA', 3, 'NORTH DAKOTA', 756927),\n",
              " ('OHIO', 18, 'OHIO', 11613423),\n",
              " ('OKLAHOMA', 7, 'OKLAHOMA', 3911338),\n",
              " ('OREGON', 7, 'OREGON', 4028977),\n",
              " ('PENNSYLVANIA', 20, 'PENNSYLVANIA', 12802503),\n",
              " ('RHODE ISLAND', 4, 'RHODE ISLAND', 1056298),\n",
              " ('SOUTH CAROLINA', 9, 'SOUTH CAROLINA', 4896146),\n",
              " ('SOUTH DAKOTA', 3, 'SOUTH DAKOTA', 858469),\n",
              " ('TENNESSEE', 11, 'TENNESSEE', 6600299),\n",
              " ('TEXAS', 38, 'TEXAS', 27469114),\n",
              " ('UTAH', 6, 'UTAH', 2995919),\n",
              " ('VERMONT', 3, 'VERMONT', 626042),\n",
              " ('VIRGINIA', 13, 'VIRGINIA', 8382993),\n",
              " ('WASHINGTON', 12, 'WASHINGTON', 7170351),\n",
              " ('WEST VIRGINIA', 5, 'WEST VIRGINIA', 1844128),\n",
              " ('WISCONSIN', 10, 'WISCONSIN', 5771337),\n",
              " ('WYOMING', 3, 'WYOMING', 586107)]"
            ]
          },
          "metadata": {
            "tags": []
          },
          "execution_count": 10
        }
      ]
    },
    {
      "cell_type": "code",
      "metadata": {
        "id": "6Vi5tl2-hpxr",
        "colab_type": "code",
        "colab": {
          "base_uri": "https://localhost:8080/",
          "height": 68
        },
        "outputId": "cd3b53d6-009c-4fc4-ffdb-bae574236a50"
      },
      "source": [
        "# Question 2\n",
        "%%sql\n",
        "UPDATE GrandElectors\n",
        "SET State = \"DC\"\n",
        "WHERE State = \"District of Columbia\";\n"
      ],
      "execution_count": null,
      "outputs": [
        {
          "output_type": "stream",
          "text": [
            " * sqlite://\n",
            "1 rows affected.\n"
          ],
          "name": "stdout"
        },
        {
          "output_type": "execute_result",
          "data": {
            "text/plain": [
              "[]"
            ]
          },
          "metadata": {
            "tags": []
          },
          "execution_count": 11
        }
      ]
    },
    {
      "cell_type": "code",
      "metadata": {
        "id": "yGxlqhH3p2MF",
        "colab_type": "code",
        "colab": {
          "base_uri": "https://localhost:8080/",
          "height": 68
        },
        "outputId": "dbb0473b-f6d7-4521-c281-41f35d71b9bf"
      },
      "source": [
        "# Question 3\n",
        "%%sql\n",
        "ALTER TABLE GrandElectors\n",
        "ADD COLUMN Ratio DOUBLE(10, 9) NULL;"
      ],
      "execution_count": null,
      "outputs": [
        {
          "output_type": "stream",
          "text": [
            " * sqlite://\n",
            "Done.\n"
          ],
          "name": "stdout"
        },
        {
          "output_type": "execute_result",
          "data": {
            "text/plain": [
              "[]"
            ]
          },
          "metadata": {
            "tags": []
          },
          "execution_count": 12
        }
      ]
    },
    {
      "cell_type": "code",
      "metadata": {
        "id": "zDBmdZOTp2QD",
        "colab_type": "code",
        "colab": {
          "base_uri": "https://localhost:8080/",
          "height": 68
        },
        "outputId": "cf84959c-6baf-48be-be82-c9deee91ef17"
      },
      "source": [
        "# Question 3 cont'd\n",
        "%%sql\n",
        "UPDATE GrandElectors\n",
        "SET Ratio = (\n",
        "SELECT  ROUND(g.GrandElectors/p.Population, 10)\n",
        "FROM GrandElectors g\n",
        "INNER JOIN Population_states p\n",
        "ON UPPER(g.State) = p.State\n",
        ");"
      ],
      "execution_count": null,
      "outputs": [
        {
          "output_type": "stream",
          "text": [
            " * sqlite://\n",
            "51 rows affected.\n"
          ],
          "name": "stdout"
        },
        {
          "output_type": "execute_result",
          "data": {
            "text/plain": [
              "[]"
            ]
          },
          "metadata": {
            "tags": []
          },
          "execution_count": 20
        }
      ]
    },
    {
      "cell_type": "code",
      "metadata": {
        "id": "GU4S4EPOx_TP",
        "colab_type": "code",
        "colab": {
          "base_uri": "https://localhost:8080/",
          "height": 1000
        },
        "outputId": "10d155e3-6546-4437-e073-6a1c7780af78"
      },
      "source": [
        "# Question 4\n",
        "%%sql\n",
        "SELECT * FROM GrandElectors\n",
        "ORDER BY Ratio DESC;\n"
      ],
      "execution_count": null,
      "outputs": [
        {
          "output_type": "stream",
          "text": [
            " * sqlite://\n",
            "Done.\n"
          ],
          "name": "stdout"
        },
        {
          "output_type": "execute_result",
          "data": {
            "text/html": [
              "<table>\n",
              "    <tr>\n",
              "        <th>State</th>\n",
              "        <th>GrandElectors</th>\n",
              "        <th>Ratio</th>\n",
              "    </tr>\n",
              "    <tr>\n",
              "        <td>Alabama</td>\n",
              "        <td>9</td>\n",
              "        <td>0.0</td>\n",
              "    </tr>\n",
              "    <tr>\n",
              "        <td>Alaska</td>\n",
              "        <td>3</td>\n",
              "        <td>0.0</td>\n",
              "    </tr>\n",
              "    <tr>\n",
              "        <td>Arizona</td>\n",
              "        <td>11</td>\n",
              "        <td>0.0</td>\n",
              "    </tr>\n",
              "    <tr>\n",
              "        <td>Arkansas</td>\n",
              "        <td>6</td>\n",
              "        <td>0.0</td>\n",
              "    </tr>\n",
              "    <tr>\n",
              "        <td>California</td>\n",
              "        <td>55</td>\n",
              "        <td>0.0</td>\n",
              "    </tr>\n",
              "    <tr>\n",
              "        <td>Colorado</td>\n",
              "        <td>9</td>\n",
              "        <td>0.0</td>\n",
              "    </tr>\n",
              "    <tr>\n",
              "        <td>Connecticut</td>\n",
              "        <td>7</td>\n",
              "        <td>0.0</td>\n",
              "    </tr>\n",
              "    <tr>\n",
              "        <td>DC</td>\n",
              "        <td>3</td>\n",
              "        <td>0.0</td>\n",
              "    </tr>\n",
              "    <tr>\n",
              "        <td>Delaware</td>\n",
              "        <td>3</td>\n",
              "        <td>0.0</td>\n",
              "    </tr>\n",
              "    <tr>\n",
              "        <td>Florida</td>\n",
              "        <td>29</td>\n",
              "        <td>0.0</td>\n",
              "    </tr>\n",
              "    <tr>\n",
              "        <td>Georgia</td>\n",
              "        <td>16</td>\n",
              "        <td>0.0</td>\n",
              "    </tr>\n",
              "    <tr>\n",
              "        <td>Hawaii</td>\n",
              "        <td>4</td>\n",
              "        <td>0.0</td>\n",
              "    </tr>\n",
              "    <tr>\n",
              "        <td>Idaho</td>\n",
              "        <td>4</td>\n",
              "        <td>0.0</td>\n",
              "    </tr>\n",
              "    <tr>\n",
              "        <td>Illinois</td>\n",
              "        <td>20</td>\n",
              "        <td>0.0</td>\n",
              "    </tr>\n",
              "    <tr>\n",
              "        <td>Indiana</td>\n",
              "        <td>11</td>\n",
              "        <td>0.0</td>\n",
              "    </tr>\n",
              "    <tr>\n",
              "        <td>Iowa</td>\n",
              "        <td>6</td>\n",
              "        <td>0.0</td>\n",
              "    </tr>\n",
              "    <tr>\n",
              "        <td>Kansas</td>\n",
              "        <td>6</td>\n",
              "        <td>0.0</td>\n",
              "    </tr>\n",
              "    <tr>\n",
              "        <td>Kentucky</td>\n",
              "        <td>8</td>\n",
              "        <td>0.0</td>\n",
              "    </tr>\n",
              "    <tr>\n",
              "        <td>Louisiana</td>\n",
              "        <td>8</td>\n",
              "        <td>0.0</td>\n",
              "    </tr>\n",
              "    <tr>\n",
              "        <td>Maine</td>\n",
              "        <td>4</td>\n",
              "        <td>0.0</td>\n",
              "    </tr>\n",
              "    <tr>\n",
              "        <td>Maryland</td>\n",
              "        <td>10</td>\n",
              "        <td>0.0</td>\n",
              "    </tr>\n",
              "    <tr>\n",
              "        <td>Massachusetts</td>\n",
              "        <td>11</td>\n",
              "        <td>0.0</td>\n",
              "    </tr>\n",
              "    <tr>\n",
              "        <td>Michigan</td>\n",
              "        <td>16</td>\n",
              "        <td>0.0</td>\n",
              "    </tr>\n",
              "    <tr>\n",
              "        <td>Minnesota</td>\n",
              "        <td>10</td>\n",
              "        <td>0.0</td>\n",
              "    </tr>\n",
              "    <tr>\n",
              "        <td>Mississippi</td>\n",
              "        <td>6</td>\n",
              "        <td>0.0</td>\n",
              "    </tr>\n",
              "    <tr>\n",
              "        <td>Missouri</td>\n",
              "        <td>10</td>\n",
              "        <td>0.0</td>\n",
              "    </tr>\n",
              "    <tr>\n",
              "        <td>Montana</td>\n",
              "        <td>3</td>\n",
              "        <td>0.0</td>\n",
              "    </tr>\n",
              "    <tr>\n",
              "        <td>Nebraska</td>\n",
              "        <td>5</td>\n",
              "        <td>0.0</td>\n",
              "    </tr>\n",
              "    <tr>\n",
              "        <td>Nevada</td>\n",
              "        <td>6</td>\n",
              "        <td>0.0</td>\n",
              "    </tr>\n",
              "    <tr>\n",
              "        <td>New Hampshire</td>\n",
              "        <td>4</td>\n",
              "        <td>0.0</td>\n",
              "    </tr>\n",
              "    <tr>\n",
              "        <td>New Jersey</td>\n",
              "        <td>14</td>\n",
              "        <td>0.0</td>\n",
              "    </tr>\n",
              "    <tr>\n",
              "        <td>New Mexico</td>\n",
              "        <td>5</td>\n",
              "        <td>0.0</td>\n",
              "    </tr>\n",
              "    <tr>\n",
              "        <td>New York</td>\n",
              "        <td>29</td>\n",
              "        <td>0.0</td>\n",
              "    </tr>\n",
              "    <tr>\n",
              "        <td>North Carolina</td>\n",
              "        <td>15</td>\n",
              "        <td>0.0</td>\n",
              "    </tr>\n",
              "    <tr>\n",
              "        <td>North Dakota</td>\n",
              "        <td>3</td>\n",
              "        <td>0.0</td>\n",
              "    </tr>\n",
              "    <tr>\n",
              "        <td>Ohio</td>\n",
              "        <td>18</td>\n",
              "        <td>0.0</td>\n",
              "    </tr>\n",
              "    <tr>\n",
              "        <td>Oklahoma</td>\n",
              "        <td>7</td>\n",
              "        <td>0.0</td>\n",
              "    </tr>\n",
              "    <tr>\n",
              "        <td>Oregon</td>\n",
              "        <td>7</td>\n",
              "        <td>0.0</td>\n",
              "    </tr>\n",
              "    <tr>\n",
              "        <td>Pennsylvania</td>\n",
              "        <td>20</td>\n",
              "        <td>0.0</td>\n",
              "    </tr>\n",
              "    <tr>\n",
              "        <td>Rhode Island</td>\n",
              "        <td>4</td>\n",
              "        <td>0.0</td>\n",
              "    </tr>\n",
              "    <tr>\n",
              "        <td>South Carolina</td>\n",
              "        <td>9</td>\n",
              "        <td>0.0</td>\n",
              "    </tr>\n",
              "    <tr>\n",
              "        <td>South Dakota</td>\n",
              "        <td>3</td>\n",
              "        <td>0.0</td>\n",
              "    </tr>\n",
              "    <tr>\n",
              "        <td>Tennessee</td>\n",
              "        <td>11</td>\n",
              "        <td>0.0</td>\n",
              "    </tr>\n",
              "    <tr>\n",
              "        <td>Texas</td>\n",
              "        <td>38</td>\n",
              "        <td>0.0</td>\n",
              "    </tr>\n",
              "    <tr>\n",
              "        <td>Utah</td>\n",
              "        <td>6</td>\n",
              "        <td>0.0</td>\n",
              "    </tr>\n",
              "    <tr>\n",
              "        <td>Vermont</td>\n",
              "        <td>3</td>\n",
              "        <td>0.0</td>\n",
              "    </tr>\n",
              "    <tr>\n",
              "        <td>Virginia</td>\n",
              "        <td>13</td>\n",
              "        <td>0.0</td>\n",
              "    </tr>\n",
              "    <tr>\n",
              "        <td>Washington</td>\n",
              "        <td>12</td>\n",
              "        <td>0.0</td>\n",
              "    </tr>\n",
              "    <tr>\n",
              "        <td>West Virginia</td>\n",
              "        <td>5</td>\n",
              "        <td>0.0</td>\n",
              "    </tr>\n",
              "    <tr>\n",
              "        <td>Wisconsin</td>\n",
              "        <td>10</td>\n",
              "        <td>0.0</td>\n",
              "    </tr>\n",
              "    <tr>\n",
              "        <td>Wyoming</td>\n",
              "        <td>3</td>\n",
              "        <td>0.0</td>\n",
              "    </tr>\n",
              "</table>"
            ],
            "text/plain": [
              "[('Alabama', 9, 0.0),\n",
              " ('Alaska', 3, 0.0),\n",
              " ('Arizona', 11, 0.0),\n",
              " ('Arkansas', 6, 0.0),\n",
              " ('California', 55, 0.0),\n",
              " ('Colorado', 9, 0.0),\n",
              " ('Connecticut', 7, 0.0),\n",
              " ('DC', 3, 0.0),\n",
              " ('Delaware', 3, 0.0),\n",
              " ('Florida', 29, 0.0),\n",
              " ('Georgia', 16, 0.0),\n",
              " ('Hawaii', 4, 0.0),\n",
              " ('Idaho', 4, 0.0),\n",
              " ('Illinois', 20, 0.0),\n",
              " ('Indiana', 11, 0.0),\n",
              " ('Iowa', 6, 0.0),\n",
              " ('Kansas', 6, 0.0),\n",
              " ('Kentucky', 8, 0.0),\n",
              " ('Louisiana', 8, 0.0),\n",
              " ('Maine', 4, 0.0),\n",
              " ('Maryland', 10, 0.0),\n",
              " ('Massachusetts', 11, 0.0),\n",
              " ('Michigan', 16, 0.0),\n",
              " ('Minnesota', 10, 0.0),\n",
              " ('Mississippi', 6, 0.0),\n",
              " ('Missouri', 10, 0.0),\n",
              " ('Montana', 3, 0.0),\n",
              " ('Nebraska', 5, 0.0),\n",
              " ('Nevada', 6, 0.0),\n",
              " ('New Hampshire', 4, 0.0),\n",
              " ('New Jersey', 14, 0.0),\n",
              " ('New Mexico', 5, 0.0),\n",
              " ('New York', 29, 0.0),\n",
              " ('North Carolina', 15, 0.0),\n",
              " ('North Dakota', 3, 0.0),\n",
              " ('Ohio', 18, 0.0),\n",
              " ('Oklahoma', 7, 0.0),\n",
              " ('Oregon', 7, 0.0),\n",
              " ('Pennsylvania', 20, 0.0),\n",
              " ('Rhode Island', 4, 0.0),\n",
              " ('South Carolina', 9, 0.0),\n",
              " ('South Dakota', 3, 0.0),\n",
              " ('Tennessee', 11, 0.0),\n",
              " ('Texas', 38, 0.0),\n",
              " ('Utah', 6, 0.0),\n",
              " ('Vermont', 3, 0.0),\n",
              " ('Virginia', 13, 0.0),\n",
              " ('Washington', 12, 0.0),\n",
              " ('West Virginia', 5, 0.0),\n",
              " ('Wisconsin', 10, 0.0),\n",
              " ('Wyoming', 3, 0.0)]"
            ]
          },
          "metadata": {
            "tags": []
          },
          "execution_count": 21
        }
      ]
    },
    {
      "cell_type": "code",
      "metadata": {
        "id": "DyxhSK67x_XI",
        "colab_type": "code",
        "colab": {
          "base_uri": "https://localhost:8080/",
          "height": 95
        },
        "outputId": "2bd1c9af-0ec8-43cf-8d22-e44ab3d901c7"
      },
      "source": [
        "# Question 5\n",
        "%%sql\n",
        "SELECT SUM(g.GrandElectors) AS 'Running Total'\n",
        "FROM (\n",
        "\tSELECT * FROM GrandElectors\n",
        "  ORDER BY Ratio DESC\n",
        ") AS g;\n"
      ],
      "execution_count": null,
      "outputs": [
        {
          "output_type": "stream",
          "text": [
            " * sqlite://\n",
            "Done.\n"
          ],
          "name": "stdout"
        },
        {
          "output_type": "execute_result",
          "data": {
            "text/html": [
              "<table>\n",
              "    <tr>\n",
              "        <th>Running Total</th>\n",
              "    </tr>\n",
              "    <tr>\n",
              "        <td>538</td>\n",
              "    </tr>\n",
              "</table>"
            ],
            "text/plain": [
              "[(538,)]"
            ]
          },
          "metadata": {
            "tags": []
          },
          "execution_count": 18
        }
      ]
    },
    {
      "cell_type": "code",
      "metadata": {
        "id": "dJfJISPozHkA",
        "colab_type": "code",
        "colab": {
          "base_uri": "https://localhost:8080/",
          "height": 95
        },
        "outputId": "2ef22d1b-f169-42d0-b2f4-2327ff2a86e2"
      },
      "source": [
        "# Question 6\n",
        "%%sql\n",
        "SELECT 0.5*SUM(GrandElectors) AS 'Half Total GrandElectors'\n",
        "FROM GrandElectors;\n"
      ],
      "execution_count": null,
      "outputs": [
        {
          "output_type": "stream",
          "text": [
            " * sqlite://\n",
            "Done.\n"
          ],
          "name": "stdout"
        },
        {
          "output_type": "execute_result",
          "data": {
            "text/html": [
              "<table>\n",
              "    <tr>\n",
              "        <th>Half Total GrandElectors</th>\n",
              "    </tr>\n",
              "    <tr>\n",
              "        <td>269.0</td>\n",
              "    </tr>\n",
              "</table>"
            ],
            "text/plain": [
              "[(269.0,)]"
            ]
          },
          "metadata": {
            "tags": []
          },
          "execution_count": 19
        }
      ]
    },
    {
      "cell_type": "code",
      "metadata": {
        "id": "rrG-epEYzHnQ",
        "colab_type": "code",
        "colab": {
          "base_uri": "https://localhost:8080/",
          "height": 1000
        },
        "outputId": "f55b5b90-abc5-4387-c524-6ee906212417"
      },
      "source": [
        "# Question 7\n",
        "%%sql\n",
        "SELECT State FROM GrandElectors\n",
        "WHERE GrandElectors <=  (SELECT 0.5*SUM(GrandElectors) FROM GrandElectors);\n",
        "SELECT State FROM GrandElectors\n",
        "WHERE (SELECT SUM(g.GrandElectors) FROM (SELECT * FROM GrandElectors ORDER BY Ratio DESC) AS g) > (SELECT 0.5*SUM(GrandElectors)FROM GrandElectors);\n"
      ],
      "execution_count": null,
      "outputs": [
        {
          "output_type": "stream",
          "text": [
            " * sqlite://\n",
            "Done.\n",
            "Done.\n"
          ],
          "name": "stdout"
        },
        {
          "output_type": "execute_result",
          "data": {
            "text/html": [
              "<table>\n",
              "    <tr>\n",
              "        <th>State</th>\n",
              "    </tr>\n",
              "    <tr>\n",
              "        <td>Alabama</td>\n",
              "    </tr>\n",
              "    <tr>\n",
              "        <td>Alaska</td>\n",
              "    </tr>\n",
              "    <tr>\n",
              "        <td>Arizona</td>\n",
              "    </tr>\n",
              "    <tr>\n",
              "        <td>Arkansas</td>\n",
              "    </tr>\n",
              "    <tr>\n",
              "        <td>California</td>\n",
              "    </tr>\n",
              "    <tr>\n",
              "        <td>Colorado</td>\n",
              "    </tr>\n",
              "    <tr>\n",
              "        <td>Connecticut</td>\n",
              "    </tr>\n",
              "    <tr>\n",
              "        <td>DC</td>\n",
              "    </tr>\n",
              "    <tr>\n",
              "        <td>Delaware</td>\n",
              "    </tr>\n",
              "    <tr>\n",
              "        <td>Florida</td>\n",
              "    </tr>\n",
              "    <tr>\n",
              "        <td>Georgia</td>\n",
              "    </tr>\n",
              "    <tr>\n",
              "        <td>Hawaii</td>\n",
              "    </tr>\n",
              "    <tr>\n",
              "        <td>Idaho</td>\n",
              "    </tr>\n",
              "    <tr>\n",
              "        <td>Illinois</td>\n",
              "    </tr>\n",
              "    <tr>\n",
              "        <td>Indiana</td>\n",
              "    </tr>\n",
              "    <tr>\n",
              "        <td>Iowa</td>\n",
              "    </tr>\n",
              "    <tr>\n",
              "        <td>Kansas</td>\n",
              "    </tr>\n",
              "    <tr>\n",
              "        <td>Kentucky</td>\n",
              "    </tr>\n",
              "    <tr>\n",
              "        <td>Louisiana</td>\n",
              "    </tr>\n",
              "    <tr>\n",
              "        <td>Maine</td>\n",
              "    </tr>\n",
              "    <tr>\n",
              "        <td>Maryland</td>\n",
              "    </tr>\n",
              "    <tr>\n",
              "        <td>Massachusetts</td>\n",
              "    </tr>\n",
              "    <tr>\n",
              "        <td>Michigan</td>\n",
              "    </tr>\n",
              "    <tr>\n",
              "        <td>Minnesota</td>\n",
              "    </tr>\n",
              "    <tr>\n",
              "        <td>Mississippi</td>\n",
              "    </tr>\n",
              "    <tr>\n",
              "        <td>Missouri</td>\n",
              "    </tr>\n",
              "    <tr>\n",
              "        <td>Montana</td>\n",
              "    </tr>\n",
              "    <tr>\n",
              "        <td>Nebraska</td>\n",
              "    </tr>\n",
              "    <tr>\n",
              "        <td>Nevada</td>\n",
              "    </tr>\n",
              "    <tr>\n",
              "        <td>New Hampshire</td>\n",
              "    </tr>\n",
              "    <tr>\n",
              "        <td>New Jersey</td>\n",
              "    </tr>\n",
              "    <tr>\n",
              "        <td>New Mexico</td>\n",
              "    </tr>\n",
              "    <tr>\n",
              "        <td>New York</td>\n",
              "    </tr>\n",
              "    <tr>\n",
              "        <td>North Carolina</td>\n",
              "    </tr>\n",
              "    <tr>\n",
              "        <td>North Dakota</td>\n",
              "    </tr>\n",
              "    <tr>\n",
              "        <td>Ohio</td>\n",
              "    </tr>\n",
              "    <tr>\n",
              "        <td>Oklahoma</td>\n",
              "    </tr>\n",
              "    <tr>\n",
              "        <td>Oregon</td>\n",
              "    </tr>\n",
              "    <tr>\n",
              "        <td>Pennsylvania</td>\n",
              "    </tr>\n",
              "    <tr>\n",
              "        <td>Rhode Island</td>\n",
              "    </tr>\n",
              "    <tr>\n",
              "        <td>South Carolina</td>\n",
              "    </tr>\n",
              "    <tr>\n",
              "        <td>South Dakota</td>\n",
              "    </tr>\n",
              "    <tr>\n",
              "        <td>Tennessee</td>\n",
              "    </tr>\n",
              "    <tr>\n",
              "        <td>Texas</td>\n",
              "    </tr>\n",
              "    <tr>\n",
              "        <td>Utah</td>\n",
              "    </tr>\n",
              "    <tr>\n",
              "        <td>Vermont</td>\n",
              "    </tr>\n",
              "    <tr>\n",
              "        <td>Virginia</td>\n",
              "    </tr>\n",
              "    <tr>\n",
              "        <td>Washington</td>\n",
              "    </tr>\n",
              "    <tr>\n",
              "        <td>West Virginia</td>\n",
              "    </tr>\n",
              "    <tr>\n",
              "        <td>Wisconsin</td>\n",
              "    </tr>\n",
              "    <tr>\n",
              "        <td>Wyoming</td>\n",
              "    </tr>\n",
              "</table>"
            ],
            "text/plain": [
              "[('Alabama',),\n",
              " ('Alaska',),\n",
              " ('Arizona',),\n",
              " ('Arkansas',),\n",
              " ('California',),\n",
              " ('Colorado',),\n",
              " ('Connecticut',),\n",
              " ('DC',),\n",
              " ('Delaware',),\n",
              " ('Florida',),\n",
              " ('Georgia',),\n",
              " ('Hawaii',),\n",
              " ('Idaho',),\n",
              " ('Illinois',),\n",
              " ('Indiana',),\n",
              " ('Iowa',),\n",
              " ('Kansas',),\n",
              " ('Kentucky',),\n",
              " ('Louisiana',),\n",
              " ('Maine',),\n",
              " ('Maryland',),\n",
              " ('Massachusetts',),\n",
              " ('Michigan',),\n",
              " ('Minnesota',),\n",
              " ('Mississippi',),\n",
              " ('Missouri',),\n",
              " ('Montana',),\n",
              " ('Nebraska',),\n",
              " ('Nevada',),\n",
              " ('New Hampshire',),\n",
              " ('New Jersey',),\n",
              " ('New Mexico',),\n",
              " ('New York',),\n",
              " ('North Carolina',),\n",
              " ('North Dakota',),\n",
              " ('Ohio',),\n",
              " ('Oklahoma',),\n",
              " ('Oregon',),\n",
              " ('Pennsylvania',),\n",
              " ('Rhode Island',),\n",
              " ('South Carolina',),\n",
              " ('South Dakota',),\n",
              " ('Tennessee',),\n",
              " ('Texas',),\n",
              " ('Utah',),\n",
              " ('Vermont',),\n",
              " ('Virginia',),\n",
              " ('Washington',),\n",
              " ('West Virginia',),\n",
              " ('Wisconsin',),\n",
              " ('Wyoming',)]"
            ]
          },
          "metadata": {
            "tags": []
          },
          "execution_count": 23
        }
      ]
    },
    {
      "cell_type": "code",
      "metadata": {
        "id": "lEEdgvhgzHqQ",
        "colab_type": "code",
        "colab": {}
      },
      "source": [
        ""
      ],
      "execution_count": null,
      "outputs": []
    }
  ]
}